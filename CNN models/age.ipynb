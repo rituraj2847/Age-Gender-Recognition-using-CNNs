{
  "nbformat": 4,
  "nbformat_minor": 0,
  "metadata": {
    "colab": {
      "name": "Copy of age.ipynb",
      "provenance": []
    },
    "kernelspec": {
      "name": "python3",
      "display_name": "Python 3"
    },
    "accelerator": "GPU"
  },
  "cells": [
    {
      "cell_type": "code",
      "metadata": {
        "id": "vLfw7JAXcGBN",
        "colab_type": "code",
        "colab": {}
      },
      "source": [
        "! pip install -q kaggle"
      ],
      "execution_count": null,
      "outputs": []
    },
    {
      "cell_type": "code",
      "metadata": {
        "id": "PfpydGiwcFsm",
        "colab_type": "code",
        "colab": {}
      },
      "source": [
        "from google.colab import files\n",
        "files.upload()"
      ],
      "execution_count": null,
      "outputs": []
    },
    {
      "cell_type": "code",
      "metadata": {
        "id": "hqoEYmL2ceRu",
        "colab_type": "code",
        "colab": {}
      },
      "source": [
        "!cp kaggle.json ~/.kaggle/\n",
        "!ls ~/.kaggle\n",
        "!chmod 600 /root/.kaggle/kaggle.json"
      ],
      "execution_count": null,
      "outputs": []
    },
    {
      "cell_type": "code",
      "metadata": {
        "id": "Grvr2eoecgtz",
        "colab_type": "code",
        "colab": {}
      },
      "source": [
        "!kaggle datasets download -d orion99/adience-age-gender-prediction-aligned-faces"
      ],
      "execution_count": null,
      "outputs": []
    },
    {
      "cell_type": "code",
      "metadata": {
        "id": "lhENLgq-cmNs",
        "colab_type": "code",
        "colab": {}
      },
      "source": [
        "!unzip *.zip"
      ],
      "execution_count": null,
      "outputs": []
    },
    {
      "cell_type": "code",
      "metadata": {
        "id": "FauswI-We22h",
        "colab_type": "code",
        "colab": {}
      },
      "source": [
        "import os\n",
        "import numpy as np\n",
        "import tensorflow as tf\n",
        "from tensorflow import keras\n",
        "from PIL import Image\n",
        "import pandas as pd\n",
        "from tqdm import tqdm\n",
        "import pickle\n",
        "from keras.preprocessing.image import ImageDataGenerator"
      ],
      "execution_count": null,
      "outputs": []
    },
    {
      "cell_type": "code",
      "metadata": {
        "id": "_SAg36XBrH4N",
        "colab_type": "code",
        "colab": {}
      },
      "source": [
        "basepath = '/content/age-gender-data/'\n",
        "\n",
        "#reading data from saved pickle file\n",
        "def read_data(i):\n",
        "  path = \"/content/drive/My Drive/DL work/pickle/train_X_\"+str(i)+\".pickle\"\n",
        "  pickle_in = open(path,\"rb\")\n",
        "  train_X = pickle.load(pickle_in)\n",
        "  path = \"/content/drive/My Drive/DL work/pickle/age_y/train_y_\"+str(i)+\".pickle\"\n",
        "  pickle_in = open(path,\"rb\")\n",
        "  train_y = pickle.load(pickle_in)\n",
        "  return train_X, train_y\n",
        "\n",
        "#reading and resizing an image \n",
        "def read_and_resize(filepath):\n",
        "    im = Image.open(filepath).convert('RGB')\n",
        "    im = im.resize((227,227))\n",
        "    im_array = np.array(im, dtype=\"uint8\")\n",
        "    #print(im_array.shape)\n",
        "    im_array = np.array(im_array / 255.0, dtype=\"float32\")\n",
        "    return im_array\n",
        "\n",
        "#preprocessing of dataframe (removing rows with incomplete info)\n",
        "def filter_df(df):\n",
        "  dict_age = {'(0, 2)' : 0,\n",
        "                '(4, 6)' : 1,\n",
        "                '(8, 12)' : 2,\n",
        "                '(15, 20)' : 3,\n",
        "                '(25, 32)' : 4,\n",
        "                '(38, 43)' : 5,\n",
        "                '(48, 53)' : 6,\n",
        "                '(60, 100)' : 7}\n",
        "  df['f'] = df.age.apply(lambda x: int(x in dict_age))\n",
        "  df = df[df.f == 1]\n",
        "  return df\n",
        "\n",
        "def creating_data():\n",
        "  dict_age = {'(0, 2)' : 0,\n",
        "                '(4, 6)' : 1,\n",
        "                '(8, 12)' : 2,\n",
        "                '(15, 20)' : 3,\n",
        "                '(25, 32)' : 4,\n",
        "                '(38, 43)' : 5,\n",
        "                '(48, 53)' : 6,\n",
        "                '(60, 100)' : 7}\n",
        "  for i in range(5):\n",
        "    path = basepath+\"fold_%i_data.txt\"%i\n",
        "    df = pd.read_csv(path, sep=\"\\t\")\n",
        "    df = filter_df(df)\n",
        "    train_X = []\n",
        "    train_y = []\n",
        "\n",
        "    for j in tqdm(range(df.shape[0])):\n",
        "      try:\n",
        "          img = basepath+\"/aligned/\"+str(df.at[j, 'user_id'])+\"/landmark_aligned_face.\"+str(df.at[j, 'face_id'])+\".\"+str(df.at[j, 'original_image'])\n",
        "          img_arr = read_and_resize(img)\n",
        "          label = [0,0,0,0,0,0,0,0]\n",
        "          label[dict_age[str(df.at[j, 'age'])]] = 1\n",
        "          train_X.append(img_arr)\n",
        "          train_y.append(label)\n",
        "      except Exception:\n",
        "        pass\n",
        "\n",
        "    train_X = np.asarray(train_X)\n",
        "    train_y = np.asarray(train_y)\n",
        "    save_data(train_X, train_y, i)\n",
        "\n",
        "#model definition\n",
        "def build_model():\n",
        "  model = keras.models.Sequential([\n",
        "      keras.layers.Conv2D(96, (7,7), activation='relu', input_shape=(227,227,3)),\n",
        "      keras.layers.MaxPooling2D((3,3), strides=2),\n",
        "      keras.layers.Conv2D(256, (5,5), activation='relu'),\n",
        "      keras.layers.MaxPooling2D((3,3), strides=2),\n",
        "      keras.layers.Conv2D(384, (3,3), activation='relu'),\n",
        "      keras.layers.MaxPooling2D((3,3), strides=2),\n",
        "      keras.layers.Flatten(),\n",
        "      keras.layers.Dense(512, activation='relu'),\n",
        "      keras.layers.Dropout(0.5),\n",
        "      keras.layers.Dense(512, activation='relu'),\n",
        "      keras.layers.Dropout(0.5),\n",
        "      keras.layers.Dense(8, activation='softmax')\n",
        "  ])\n",
        "  model.compile(loss=\"categorical_crossentropy\", metrics=['acc'], optimizer=\"adam\")\n",
        "  model.summary()\n",
        "  return model\n",
        "\n",
        "#for saving data\n",
        "def save_data(train_X, train_y, i):\n",
        "  pickle_out = open(\"/content/drive/My Drive/DL work/pickle/train_X_%s.pickle\"%i,\"wb\")\n",
        "  pickle.dump(train_X, pickle_out)\n",
        "  pickle_out.close()\n",
        "  pickle_out = open(\"/content/drive/My Drive/DL work/pickle/age_y/train_y_%s.pickle\"%i,\"wb\")\n",
        "  pickle.dump(train_y, pickle_out)\n",
        "  pickle_out.close()\n",
        "\n",
        "#for opening image from dataframe\n",
        "def open_img(row_i):\n",
        "  path = basepath+\"/aligned/\"+str(df.at[row_i, 'user_id'])+\"/landmark_aligned_face.\"+str(df.at[row_i, 'face_id'])+\".\"+str(df.at[row_i, 'original_image'])\n",
        "  im = Image.open(path).convert('RGB')\n",
        "  im = im.resize((227,227))\n",
        "  print(im)\n"
      ],
      "execution_count": null,
      "outputs": []
    },
    {
      "cell_type": "code",
      "metadata": {
        "id": "EATMvjasKyKV",
        "colab_type": "code",
        "colab": {}
      },
      "source": [
        "#augmenting the image\n",
        "datagen = ImageDataGenerator(\n",
        "    rotation_range=6,\n",
        "    width_shift_range=0.1,\n",
        "    height_shift_range=0.1,\n",
        "    horizontal_flip=True,\n",
        "    zoom_range=0.1)\n",
        "\n",
        "def augment(im_array):\n",
        "  im_array = datagen.random_transform(im_array)\n",
        "  return im_array\n"
      ],
      "execution_count": null,
      "outputs": []
    },
    {
      "cell_type": "code",
      "metadata": {
        "id": "V8RS7Thbej8c",
        "colab_type": "code",
        "colab": {
          "base_uri": "https://localhost:8080/",
          "height": 108
        },
        "outputId": "0807a672-48a3-469a-c410-6231a449ff9e"
      },
      "source": [
        "#prepare the dataset\n",
        "creating_data()"
      ],
      "execution_count": null,
      "outputs": [
        {
          "output_type": "stream",
          "text": [
            "100%|██████████| 4377/4377 [01:18<00:00, 55.50it/s]\n",
            "100%|██████████| 3092/3092 [02:22<00:00, 21.77it/s]\n",
            "100%|██████████| 3285/3285 [01:55<00:00, 28.38it/s]\n",
            "100%|██████████| 2963/2963 [01:59<00:00, 24.78it/s]\n",
            "100%|██████████| 3676/3676 [02:26<00:00, 25.10it/s]\n"
          ],
          "name": "stderr"
        }
      ]
    },
    {
      "cell_type": "code",
      "metadata": {
        "id": "Z9a7fjLWfDRP",
        "colab_type": "code",
        "colab": {}
      },
      "source": [
        "# predicting images\n",
        "dict_age = {'(0, 2)' : 0,\n",
        "                '(4, 6)' : 1,\n",
        "                '(8, 12)' : 2,\n",
        "                '(15, 20)' : 3,\n",
        "                '(25, 32)' : 4,\n",
        "                '(38, 43)' : 5,\n",
        "                '(48, 53)' : 6,\n",
        "                '(60, 100)' : 7}\n",
        "def predict(path):\n",
        "  im_array = read_and_resize(path)\n",
        "  im_array = im_array.reshape(-1, 227, 227, 3)\n",
        "  classes = model.predict(im_array)\n",
        "  #print(classes[0])\n",
        "  for k,v in dict_age.items():\n",
        "    if v == np.argmax(classes):\n",
        "      print(k)\n",
        "      break"
      ],
      "execution_count": null,
      "outputs": []
    },
    {
      "cell_type": "code",
      "metadata": {
        "id": "wUoCih3AQv_v",
        "colab_type": "code",
        "colab": {}
      },
      "source": [
        "#create the model\n",
        "model = build_model()"
      ],
      "execution_count": null,
      "outputs": []
    },
    {
      "cell_type": "code",
      "metadata": {
        "id": "tlMmnEWMPQju",
        "colab_type": "code",
        "colab": {}
      },
      "source": [
        "#loading the model\n",
        "model = keras.models.load_model('/content/drive/My Drive/age.h5')"
      ],
      "execution_count": null,
      "outputs": []
    },
    {
      "cell_type": "code",
      "metadata": {
        "id": "dFWRr5DgRK9Z",
        "colab_type": "code",
        "colab": {}
      },
      "source": [
        "#saving the model after training on each fold\n",
        "model.save(\"/content/drive/My Drive/age.h5\")"
      ],
      "execution_count": null,
      "outputs": []
    },
    {
      "cell_type": "code",
      "metadata": {
        "id": "4d39bhcroJcj",
        "colab_type": "code",
        "colab": {}
      },
      "source": [
        "#training the model on 5 different folds of data\n",
        "for i in range(0,5):\n",
        "  train_X, train_y = read_data(i)\n",
        "  model.fit(train_X, train_y, validation_split = 0.10, epochs=20, verbose=1, batch_size=32, shuffle=True)\n",
        "  train_X = np.array([augment(image) for image in train_X])\n",
        "  model.fit(train_X, train_y, validation_split = 0.10, epochs=20, verbose=1, batch_size=32, shuffle=True)"
      ],
      "execution_count": null,
      "outputs": []
    },
    {
      "cell_type": "code",
      "metadata": {
        "id": "ZVlVa9I7RTrt",
        "colab_type": "code",
        "colab": {}
      },
      "source": [
        "#evaluating performance of model on testing dataset\n",
        "model.evaluate(train_X, train_y, verbose = 2)"
      ],
      "execution_count": null,
      "outputs": []
    },
    {
      "cell_type": "code",
      "metadata": {
        "id": "nSiFYL8dwc2m",
        "colab_type": "code",
        "colab": {}
      },
      "source": [
        "#for predicting on random images\n",
        "for i in range(15):\n",
        "  path = '/content/drive/My Drive/final year project/male face/'\n",
        "  print(i+1, sep=' \"\" ', end='')\n",
        "  predict(path+str(i+1)+'.jpg')"
      ],
      "execution_count": null,
      "outputs": []
    }
  ]
}