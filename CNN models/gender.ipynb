{
  "nbformat": 4,
  "nbformat_minor": 0,
  "metadata": {
    "colab": {
      "name": "gender.ipynb",
      "provenance": [],
      "collapsed_sections": []
    },
    "kernelspec": {
      "name": "python3",
      "display_name": "Python 3"
    },
    "accelerator": "GPU"
  },
  "cells": [
    {
      "cell_type": "code",
      "metadata": {
        "id": "O8qeaZZhS4Fb",
        "colab_type": "code",
        "colab": {}
      },
      "source": [
        "from google.colab import drive\n",
        "drive.mount('/content/gdrive') "
      ],
      "execution_count": null,
      "outputs": []
    },
    {
      "cell_type": "code",
      "metadata": {
        "id": "9waq__fnTUiK",
        "colab_type": "code",
        "colab": {}
      },
      "source": [
        "! pip install -q kaggle"
      ],
      "execution_count": null,
      "outputs": []
    },
    {
      "cell_type": "code",
      "metadata": {
        "id": "dthjZp_OTaS2",
        "colab_type": "code",
        "colab": {}
      },
      "source": [
        "from google.colab import files\n",
        "files.upload()"
      ],
      "execution_count": null,
      "outputs": []
    },
    {
      "cell_type": "code",
      "metadata": {
        "id": "7ekQSkAqT8M9",
        "colab_type": "code",
        "colab": {}
      },
      "source": [
        "!cp kaggle.json ~/.kaggle/\n",
        "!ls ~/.kaggle\n",
        "!chmod 600 /root/.kaggle/kaggle.json"
      ],
      "execution_count": null,
      "outputs": []
    },
    {
      "cell_type": "code",
      "metadata": {
        "id": "jwhsgYNBWG4n",
        "colab_type": "code",
        "colab": {}
      },
      "source": [
        "!kaggle datasets download -d orion99/adience-age-gender-prediction-aligned-faces"
      ],
      "execution_count": null,
      "outputs": []
    },
    {
      "cell_type": "markdown",
      "metadata": {
        "id": "ce_KqWIF4k4P",
        "colab_type": "text"
      },
      "source": [
        " New Section"
      ]
    },
    {
      "cell_type": "code",
      "metadata": {
        "id": "_c-1t3MQEDLL",
        "colab_type": "code",
        "colab": {
          "base_uri": "https://localhost:8080/",
          "height": 35
        },
        "outputId": "9407ad9f-f5e0-4f33-b210-221556d91d9b"
      },
      "source": [
        "import os\n",
        "import numpy as np\n",
        "import tensorflow as tf\n",
        "from tensorflow import keras\n",
        "from PIL import Image\n",
        "import pandas as pd\n",
        "from tqdm import tqdm\n",
        "import pickle\n",
        "from keras.preprocessing.image import ImageDataGenerator"
      ],
      "execution_count": null,
      "outputs": [
        {
          "output_type": "stream",
          "text": [
            "Using TensorFlow backend.\n"
          ],
          "name": "stderr"
        }
      ]
    },
    {
      "cell_type": "code",
      "metadata": {
        "id": "QExxNlRqlwnn",
        "colab_type": "code",
        "colab": {}
      },
      "source": [
        "basepath = '/content/age-gender-data/'\n",
        "\n",
        "#reading data from saved pickle file\n",
        "def read_data(i):\n",
        "  path = \"/content/drive/My Drive/DL work/pickle/train_X_\"+str(i)+\".pickle\"\n",
        "  pickle_in = open(path,\"rb\")\n",
        "  train_X = pickle.load(pickle_in)\n",
        "  path = \"/content/drive/My Drive/DL work/pickle/age_y/train_y_\"+str(i)+\".pickle\"\n",
        "  pickle_in = open(path,\"rb\")\n",
        "  train_y = pickle.load(pickle_in)\n",
        "  return train_X, train_y\n",
        "\n",
        "#reading and resizing an image \n",
        "def read_and_resize(filepath):\n",
        "    im = Image.open(filepath).convert('RGB')\n",
        "    im = im.resize((227,227))\n",
        "    im_array = np.array(im, dtype=\"uint8\")\n",
        "    #print(im_array.shape)\n",
        "    im_array = np.array(im_array / 255.0, dtype=\"float32\")\n",
        "    return im_array\n",
        "\n",
        "#preprocessing of dataframe (removing rows with incomplete info)\n",
        "def filter_df(df):\n",
        "  df['f'] = df.gender.apply(lambda x: int(x in ['f','m']))\n",
        "  df = df[df['f'] == 1]\n",
        "  return df\n",
        "\n",
        "def creating_data():\n",
        "  for i in range(5):\n",
        "    path = basepath+\"fold_%i_data.txt\"%i\n",
        "    df = pd.read_csv(path, sep=\"\\t\")\n",
        "    df = filter_df(df)\n",
        "    train_X = []\n",
        "    train_y = []\n",
        "\n",
        "    for j in tqdm(range(df.shape[0])):\n",
        "      try:\n",
        "          img = basepath+\"/aligned/\"+str(df.at[j, 'user_id'])+\"/landmark_aligned_face.\"+str(df.at[j, 'face_id'])+\".\"+str(df.at[j, 'original_image'])\n",
        "          img_arr = read_and_resize(img)\n",
        "          label = int(df.at[j, 'gender'] == 'f')\n",
        "        train_X.append(img_arr)\n",
        "        train_y.append(label)\n",
        "      except Exception:\n",
        "        pass\n",
        "\n",
        "    train_X = np.asarray(train_X)\n",
        "    train_y = np.asarray(train_y)\n",
        "    save_data(train_X, train_y, i)\n",
        "\n",
        "#model definition\n",
        "def build_model():\n",
        "  model = keras.models.Sequential([\n",
        "      keras.layers.Conv2D(96, (7,7), activation='relu', input_shape=(227,227,3)),\n",
        "      keras.layers.MaxPooling2D((3,3), strides=2),\n",
        "      keras.layers.Conv2D(256, (5,5), activation='relu'),\n",
        "      keras.layers.MaxPooling2D((3,3), strides=2),\n",
        "      keras.layers.Conv2D(384, (3,3), activation='relu'),\n",
        "      keras.layers.MaxPooling2D((3,3), strides=2),\n",
        "      keras.layers.Flatten(),\n",
        "      keras.layers.Dense(512, activation='relu'),\n",
        "      keras.layers.Dropout(0.5),\n",
        "      keras.layers.Dense(512, activation='relu'),\n",
        "      keras.layers.Dropout(0.5),\n",
        "      keras.layers.Dense(1, activation='sigmoid')\n",
        "      ])\n",
        "  model.compile(loss=\"binary_crossentropy\", metrics=['acc'], optimizer=\"adam\")\n",
        "  model.summary() \n",
        "  return model\n",
        "\n",
        "#for saving data\n",
        "def save_data(train_X, train_y, i):\n",
        "  pickle_out = open(\"/content/drive/My Drive/DL work/pickle/train_X_%s.pickle\"%i,\"wb\")\n",
        "  pickle.dump(train_X, pickle_out)\n",
        "  pickle_out.close()\n",
        "  pickle_out = open(\"/content/drive/My Drive/DL work/pickle/gender_y/train_y_%s.pickle\"%i,\"wb\")\n",
        "  pickle.dump(train_y, pickle_out)\n",
        "  pickle_out.close()\n",
        "\n",
        "#for opening image from dataframe\n",
        "def open_img(row_i):\n",
        "  path = basepath+\"/aligned/\"+str(df.at[row_i, 'user_id'])+\"/landmark_aligned_face.\"+str(df.at[row_i, 'face_id'])+\".\"+str(df.at[row_i, 'original_image'])\n",
        "  im = Image.open(path).convert('RGB')\n",
        "  im = im.resize((227,227))\n",
        "  print(im)\n"
      ],
      "execution_count": null,
      "outputs": []
    },
    {
      "cell_type": "code",
      "metadata": {
        "id": "aGbUBe6_jzL6",
        "colab_type": "code",
        "colab": {}
      },
      "source": [
        "#augmenting the image\n",
        "datagen = ImageDataGenerator(\n",
        "    rotation_range=6,\n",
        "    width_shift_range=0.1,\n",
        "    height_shift_range=0.1,\n",
        "    horizontal_flip=True,\n",
        "    zoom_range=0.1)\n",
        "\n",
        "def augment(im_array):\n",
        "  im_array = datagen.random_transform(im_array)\n",
        "  return im_array\n"
      ],
      "execution_count": null,
      "outputs": []
    },
    {
      "cell_type": "code",
      "metadata": {
        "id": "edXoSU6AmtOm",
        "colab_type": "code",
        "colab": {}
      },
      "source": [
        "#prepare the dataset\n",
        "creating_data()"
      ],
      "execution_count": null,
      "outputs": []
    },
    {
      "cell_type": "code",
      "metadata": {
        "id": "_WSW_MuiCOAe",
        "colab_type": "code",
        "colab": {}
      },
      "source": [
        "# predicting images\n",
        "def predict(path):\n",
        "  im_array = read_and_resize(path)\n",
        "  im_array = im_array.reshape(-1, 227, 227, 3)\n",
        "  classes = model.predict(im_array)\n",
        "  #print(classes[0])\n",
        "  if classes[0]>0.5:\n",
        "    print(\" is a female\")\n",
        "  else:\n",
        "    print(\" is a male\")"
      ],
      "execution_count": null,
      "outputs": []
    },
    {
      "cell_type": "code",
      "metadata": {
        "id": "UmRAXTmsXbuB",
        "colab_type": "code",
        "colab": {}
      },
      "source": [
        "model = keras.models.load_model('/content/drive/My Drive/gender.h5')"
      ],
      "execution_count": null,
      "outputs": []
    },
    {
      "cell_type": "code",
      "metadata": {
        "id": "KEXdVFRvhvuD",
        "colab_type": "code",
        "colab": {}
      },
      "source": [
        "#saving the model after training on each fold\n",
        "model.save(\"/content/drive/My Drive/gender.h5\")"
      ],
      "execution_count": null,
      "outputs": []
    },
    {
      "cell_type": "code",
      "metadata": {
        "id": "NHN9Zk15nIa4",
        "colab_type": "code",
        "colab": {}
      },
      "source": [
        "#training the model on 5 different folds of data\n",
        "for i in range(0,5):\n",
        "  train_X, train_y = read_data(i)\n",
        "  model.fit(train_X, train_y, validation_split = 0.10, epochs=20, verbose=1, batch_size=32, shuffle=True)\n",
        "  train_X = np.array([augment(image) for image in train_X])\n",
        "  model.fit(train_X, train_y, validation_split = 0.10, epochs=20, verbose=1, batch_size=32, shuffle=True)"
      ],
      "execution_count": null,
      "outputs": []
    },
    {
      "cell_type": "code",
      "metadata": {
        "id": "HIhN13ZjuMmH",
        "colab_type": "code",
        "colab": {}
      },
      "source": [
        "#evaluating performance of model on testing dataset\n",
        "model.evaluate(train_X, train_y, verbose = 2)"
      ],
      "execution_count": null,
      "outputs": []
    },
    {
      "cell_type": "code",
      "metadata": {
        "id": "3Ho1BQXqkm1J",
        "colab_type": "code",
        "colab": {}
      },
      "source": [
        "#for predicting on random images\n",
        "for i in range(15):\n",
        "  path = '/content/drive/My Drive/final year project/male face/'\n",
        "  print(i+1, sep=' \"\" ', end='')\n",
        "  predict(path+str(i+1)+'.jpg')"
      ],
      "execution_count": null,
      "outputs": []
    }
  ]
}